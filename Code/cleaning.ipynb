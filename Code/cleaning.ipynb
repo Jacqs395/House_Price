{
 "cells": [
  {
   "cell_type": "code",
   "execution_count": 258,
   "metadata": {},
   "outputs": [],
   "source": [
    "import numpy as np\n",
    "import pandas as pd\n",
    "import matplotlib.pyplot as plt\n",
    "from sklearn.preprocessing import StandardScaler\n",
    "from sklearn.preprocessing import OrdinalEncoder\n",
    "\n",
    "\n",
    "\n",
    "import seaborn as sns"
   ]
  },
  {
   "cell_type": "code",
   "execution_count": 259,
   "metadata": {},
   "outputs": [],
   "source": [
    "# Load train.csv data\n",
    "train_df = pd.read_csv(\"/Users/sa18/Desktop/House_Price/Data/train.csv\")"
   ]
  },
  {
   "cell_type": "markdown",
   "metadata": {},
   "source": [
    "### Step 1: Drop Columns"
   ]
  },
  {
   "cell_type": "code",
   "execution_count": 260,
   "metadata": {},
   "outputs": [],
   "source": [
    "kept_cols = ['OverallQual', 'YearBuilt', 'YearRemodAdd', 'TotalBsmtSF', 'GrLivArea', 'FullBath', 'GarageCars', 'SalePrice',\n",
    "             'ExterQual', 'BsmtQual', 'KitchenQual']"
   ]
  },
  {
   "cell_type": "code",
   "execution_count": 261,
   "metadata": {},
   "outputs": [],
   "source": [
    "train_df = train_df[kept_cols]"
   ]
  },
  {
   "cell_type": "markdown",
   "metadata": {},
   "source": [
    "### Step 2: Handle Missing Values"
   ]
  },
  {
   "cell_type": "code",
   "execution_count": 262,
   "metadata": {},
   "outputs": [
    {
     "name": "stdout",
     "output_type": "stream",
     "text": [
      "Columns with missing values:\n",
      " BsmtQual    37\n",
      "dtype: int64\n"
     ]
    }
   ],
   "source": [
    "missing = train_df.isnull().sum()\n",
    "missing = missing[missing > 0].sort_values(ascending=False)\n",
    "print(\"Columns with missing values:\\n\", missing)"
   ]
  },
  {
   "cell_type": "code",
   "execution_count": 263,
   "metadata": {},
   "outputs": [],
   "source": [
    "# separate numerical and categorical data\n",
    "numeric_cols = train_df.select_dtypes(include=[\"int64\", \"float64\"]).columns\n",
    "\n",
    "categorical_cols = train_df.select_dtypes(include=[\"object\"]).columns\n"
   ]
  },
  {
   "cell_type": "code",
   "execution_count": 264,
   "metadata": {},
   "outputs": [
    {
     "data": {
      "text/html": [
       "<div>\n",
       "<style scoped>\n",
       "    .dataframe tbody tr th:only-of-type {\n",
       "        vertical-align: middle;\n",
       "    }\n",
       "\n",
       "    .dataframe tbody tr th {\n",
       "        vertical-align: top;\n",
       "    }\n",
       "\n",
       "    .dataframe thead th {\n",
       "        text-align: right;\n",
       "    }\n",
       "</style>\n",
       "<table border=\"1\" class=\"dataframe\">\n",
       "  <thead>\n",
       "    <tr style=\"text-align: right;\">\n",
       "      <th></th>\n",
       "      <th>OverallQual</th>\n",
       "      <th>YearBuilt</th>\n",
       "      <th>YearRemodAdd</th>\n",
       "      <th>TotalBsmtSF</th>\n",
       "      <th>GrLivArea</th>\n",
       "      <th>FullBath</th>\n",
       "      <th>GarageCars</th>\n",
       "      <th>SalePrice</th>\n",
       "    </tr>\n",
       "  </thead>\n",
       "  <tbody>\n",
       "    <tr>\n",
       "      <th>0</th>\n",
       "      <td>7</td>\n",
       "      <td>2003</td>\n",
       "      <td>2003</td>\n",
       "      <td>856</td>\n",
       "      <td>1710</td>\n",
       "      <td>2</td>\n",
       "      <td>2</td>\n",
       "      <td>208500</td>\n",
       "    </tr>\n",
       "    <tr>\n",
       "      <th>1</th>\n",
       "      <td>6</td>\n",
       "      <td>1976</td>\n",
       "      <td>1976</td>\n",
       "      <td>1262</td>\n",
       "      <td>1262</td>\n",
       "      <td>2</td>\n",
       "      <td>2</td>\n",
       "      <td>181500</td>\n",
       "    </tr>\n",
       "    <tr>\n",
       "      <th>2</th>\n",
       "      <td>7</td>\n",
       "      <td>2001</td>\n",
       "      <td>2002</td>\n",
       "      <td>920</td>\n",
       "      <td>1786</td>\n",
       "      <td>2</td>\n",
       "      <td>2</td>\n",
       "      <td>223500</td>\n",
       "    </tr>\n",
       "    <tr>\n",
       "      <th>3</th>\n",
       "      <td>7</td>\n",
       "      <td>1915</td>\n",
       "      <td>1970</td>\n",
       "      <td>756</td>\n",
       "      <td>1717</td>\n",
       "      <td>1</td>\n",
       "      <td>3</td>\n",
       "      <td>140000</td>\n",
       "    </tr>\n",
       "    <tr>\n",
       "      <th>4</th>\n",
       "      <td>8</td>\n",
       "      <td>2000</td>\n",
       "      <td>2000</td>\n",
       "      <td>1145</td>\n",
       "      <td>2198</td>\n",
       "      <td>2</td>\n",
       "      <td>3</td>\n",
       "      <td>250000</td>\n",
       "    </tr>\n",
       "    <tr>\n",
       "      <th>...</th>\n",
       "      <td>...</td>\n",
       "      <td>...</td>\n",
       "      <td>...</td>\n",
       "      <td>...</td>\n",
       "      <td>...</td>\n",
       "      <td>...</td>\n",
       "      <td>...</td>\n",
       "      <td>...</td>\n",
       "    </tr>\n",
       "    <tr>\n",
       "      <th>1455</th>\n",
       "      <td>6</td>\n",
       "      <td>1999</td>\n",
       "      <td>2000</td>\n",
       "      <td>953</td>\n",
       "      <td>1647</td>\n",
       "      <td>2</td>\n",
       "      <td>2</td>\n",
       "      <td>175000</td>\n",
       "    </tr>\n",
       "    <tr>\n",
       "      <th>1456</th>\n",
       "      <td>6</td>\n",
       "      <td>1978</td>\n",
       "      <td>1988</td>\n",
       "      <td>1542</td>\n",
       "      <td>2073</td>\n",
       "      <td>2</td>\n",
       "      <td>2</td>\n",
       "      <td>210000</td>\n",
       "    </tr>\n",
       "    <tr>\n",
       "      <th>1457</th>\n",
       "      <td>7</td>\n",
       "      <td>1941</td>\n",
       "      <td>2006</td>\n",
       "      <td>1152</td>\n",
       "      <td>2340</td>\n",
       "      <td>2</td>\n",
       "      <td>1</td>\n",
       "      <td>266500</td>\n",
       "    </tr>\n",
       "    <tr>\n",
       "      <th>1458</th>\n",
       "      <td>5</td>\n",
       "      <td>1950</td>\n",
       "      <td>1996</td>\n",
       "      <td>1078</td>\n",
       "      <td>1078</td>\n",
       "      <td>1</td>\n",
       "      <td>1</td>\n",
       "      <td>142125</td>\n",
       "    </tr>\n",
       "    <tr>\n",
       "      <th>1459</th>\n",
       "      <td>5</td>\n",
       "      <td>1965</td>\n",
       "      <td>1965</td>\n",
       "      <td>1256</td>\n",
       "      <td>1256</td>\n",
       "      <td>1</td>\n",
       "      <td>1</td>\n",
       "      <td>147500</td>\n",
       "    </tr>\n",
       "  </tbody>\n",
       "</table>\n",
       "<p>1460 rows × 8 columns</p>\n",
       "</div>"
      ],
      "text/plain": [
       "      OverallQual  YearBuilt  YearRemodAdd  TotalBsmtSF  GrLivArea  FullBath  \\\n",
       "0               7       2003          2003          856       1710         2   \n",
       "1               6       1976          1976         1262       1262         2   \n",
       "2               7       2001          2002          920       1786         2   \n",
       "3               7       1915          1970          756       1717         1   \n",
       "4               8       2000          2000         1145       2198         2   \n",
       "...           ...        ...           ...          ...        ...       ...   \n",
       "1455            6       1999          2000          953       1647         2   \n",
       "1456            6       1978          1988         1542       2073         2   \n",
       "1457            7       1941          2006         1152       2340         2   \n",
       "1458            5       1950          1996         1078       1078         1   \n",
       "1459            5       1965          1965         1256       1256         1   \n",
       "\n",
       "      GarageCars  SalePrice  \n",
       "0              2     208500  \n",
       "1              2     181500  \n",
       "2              2     223500  \n",
       "3              3     140000  \n",
       "4              3     250000  \n",
       "...          ...        ...  \n",
       "1455           2     175000  \n",
       "1456           2     210000  \n",
       "1457           1     266500  \n",
       "1458           1     142125  \n",
       "1459           1     147500  \n",
       "\n",
       "[1460 rows x 8 columns]"
      ]
     },
     "execution_count": 264,
     "metadata": {},
     "output_type": "execute_result"
    }
   ],
   "source": [
    "# Fill numerical columns with 0\n",
    "train_df[numeric_cols] = train_df[numeric_cols].fillna(0)\n",
    "\n",
    "train_df[numeric_cols]"
   ]
  },
  {
   "cell_type": "code",
   "execution_count": 265,
   "metadata": {},
   "outputs": [
    {
     "data": {
      "text/html": [
       "<div>\n",
       "<style scoped>\n",
       "    .dataframe tbody tr th:only-of-type {\n",
       "        vertical-align: middle;\n",
       "    }\n",
       "\n",
       "    .dataframe tbody tr th {\n",
       "        vertical-align: top;\n",
       "    }\n",
       "\n",
       "    .dataframe thead th {\n",
       "        text-align: right;\n",
       "    }\n",
       "</style>\n",
       "<table border=\"1\" class=\"dataframe\">\n",
       "  <thead>\n",
       "    <tr style=\"text-align: right;\">\n",
       "      <th></th>\n",
       "      <th>ExterQual</th>\n",
       "      <th>BsmtQual</th>\n",
       "      <th>KitchenQual</th>\n",
       "    </tr>\n",
       "  </thead>\n",
       "  <tbody>\n",
       "    <tr>\n",
       "      <th>0</th>\n",
       "      <td>Gd</td>\n",
       "      <td>Gd</td>\n",
       "      <td>Gd</td>\n",
       "    </tr>\n",
       "    <tr>\n",
       "      <th>1</th>\n",
       "      <td>TA</td>\n",
       "      <td>Gd</td>\n",
       "      <td>TA</td>\n",
       "    </tr>\n",
       "    <tr>\n",
       "      <th>2</th>\n",
       "      <td>Gd</td>\n",
       "      <td>Gd</td>\n",
       "      <td>Gd</td>\n",
       "    </tr>\n",
       "    <tr>\n",
       "      <th>3</th>\n",
       "      <td>TA</td>\n",
       "      <td>TA</td>\n",
       "      <td>Gd</td>\n",
       "    </tr>\n",
       "    <tr>\n",
       "      <th>4</th>\n",
       "      <td>Gd</td>\n",
       "      <td>Gd</td>\n",
       "      <td>Gd</td>\n",
       "    </tr>\n",
       "    <tr>\n",
       "      <th>...</th>\n",
       "      <td>...</td>\n",
       "      <td>...</td>\n",
       "      <td>...</td>\n",
       "    </tr>\n",
       "    <tr>\n",
       "      <th>1455</th>\n",
       "      <td>TA</td>\n",
       "      <td>Gd</td>\n",
       "      <td>TA</td>\n",
       "    </tr>\n",
       "    <tr>\n",
       "      <th>1456</th>\n",
       "      <td>TA</td>\n",
       "      <td>Gd</td>\n",
       "      <td>TA</td>\n",
       "    </tr>\n",
       "    <tr>\n",
       "      <th>1457</th>\n",
       "      <td>Ex</td>\n",
       "      <td>TA</td>\n",
       "      <td>Gd</td>\n",
       "    </tr>\n",
       "    <tr>\n",
       "      <th>1458</th>\n",
       "      <td>TA</td>\n",
       "      <td>TA</td>\n",
       "      <td>Gd</td>\n",
       "    </tr>\n",
       "    <tr>\n",
       "      <th>1459</th>\n",
       "      <td>Gd</td>\n",
       "      <td>TA</td>\n",
       "      <td>TA</td>\n",
       "    </tr>\n",
       "  </tbody>\n",
       "</table>\n",
       "<p>1460 rows × 3 columns</p>\n",
       "</div>"
      ],
      "text/plain": [
       "     ExterQual BsmtQual KitchenQual\n",
       "0           Gd       Gd          Gd\n",
       "1           TA       Gd          TA\n",
       "2           Gd       Gd          Gd\n",
       "3           TA       TA          Gd\n",
       "4           Gd       Gd          Gd\n",
       "...        ...      ...         ...\n",
       "1455        TA       Gd          TA\n",
       "1456        TA       Gd          TA\n",
       "1457        Ex       TA          Gd\n",
       "1458        TA       TA          Gd\n",
       "1459        Gd       TA          TA\n",
       "\n",
       "[1460 rows x 3 columns]"
      ]
     },
     "execution_count": 265,
     "metadata": {},
     "output_type": "execute_result"
    }
   ],
   "source": [
    "# Fill categorical columns with 'None'\n",
    "train_df[categorical_cols] = train_df[categorical_cols].fillna(\"None\")\n",
    "\n",
    "train_df[categorical_cols]"
   ]
  },
  {
   "cell_type": "markdown",
   "metadata": {},
   "source": [
    "### Step 3: Log Transform Target Variable `SalePrice`"
   ]
  },
  {
   "cell_type": "code",
   "execution_count": 266,
   "metadata": {},
   "outputs": [
    {
     "data": {
      "image/png": "[encoded data removed]",
      "text/plain": [
       "<Figure size 640x480 with 1 Axes>"
      ]
     },
     "metadata": {},
     "output_type": "display_data"
    }
   ],
   "source": [
    "# `SalePrice` is right skewed, so it needs to be normally distributed before we can move on to machine learning. \n",
    "# Apply log scale to transform the target variable (`SalePrice`)\n",
    "\n",
    "#target = np.log(train_df['SalePrice'])\n",
    "\n",
    "\n",
    "target = train_df['SalePrice'] = np.log1p(train_df['SalePrice'])\n",
    "\n",
    "sns.histplot(target, kde = True, color = 'b')\n",
    "plt.title(\"Log Transformed `SalePrice` Distribution\")\n",
    "plt.xlabel(\"Log `SalePrice`\")\n",
    "plt.ylabel(\"Count\")\n",
    "plt.show()\n"
   ]
  },
  {
   "cell_type": "markdown",
   "metadata": {},
   "source": [
    "`SalePrice` now has a more normal distribution. "
   ]
  },
  {
   "cell_type": "code",
   "execution_count": 267,
   "metadata": {},
   "outputs": [
    {
     "data": {
      "text/plain": [
       "OverallQual       int64\n",
       "YearBuilt         int64\n",
       "YearRemodAdd      int64\n",
       "TotalBsmtSF       int64\n",
       "GrLivArea         int64\n",
       "FullBath          int64\n",
       "GarageCars        int64\n",
       "SalePrice       float64\n",
       "ExterQual        object\n",
       "BsmtQual         object\n",
       "KitchenQual      object\n",
       "dtype: object"
      ]
     },
     "execution_count": 267,
     "metadata": {},
     "output_type": "execute_result"
    }
   ],
   "source": [
    "train_df.dtypes"
   ]
  },
  {
   "cell_type": "code",
   "execution_count": 268,
   "metadata": {},
   "outputs": [],
   "source": [
    "for col in [\"ExterQual\", \"BsmtQual\", \"KitchenQual\"]: train_df[col] = train_df[col].astype(str)\n",
    "\n",
    "# Encode Categorical Features for use in modeling\n",
    "quality_order = [\"None\", \"Po\", \"Fa\", \"TA\", \"Gd\", \"Ex\"]\n",
    "\n",
    "encoder = OrdinalEncoder(categories=[quality_order, quality_order, quality_order])\n",
    "\n",
    "train_df[[\"ExterQual\", \"BsmtQual\", \"KitchenQual\"]] = encoder.fit_transform(\n",
    "    train_df[[\"ExterQual\", \"BsmtQual\", \"KitchenQual\"]]\n",
    "    )"
   ]
  },
  {
   "cell_type": "markdown",
   "metadata": {},
   "source": [
    "### Step 4: Save Cleaned DataFrame"
   ]
  },
  {
   "cell_type": "code",
   "execution_count": 270,
   "metadata": {},
   "outputs": [
    {
     "data": {
      "text/plain": [
       "(1460, 11)"
      ]
     },
     "execution_count": 270,
     "metadata": {},
     "output_type": "execute_result"
    }
   ],
   "source": [
    "train_df. to_csv(\"/Users/sa18/Desktop/House_Price/Data/cleaned_train.csv\", index=False)\n",
    "\n",
    "# show size of new data\n",
    "train_df.shape"
   ]
  },
  {
   "cell_type": "markdown",
   "metadata": {},
   "source": [
    "The cleaned training dataset has 11 columns and 1460 rows."
   ]
  }
 ],
 "metadata": {
  "kernelspec": {
   "display_name": "base",
   "language": "python",
   "name": "python3"
  },
  "language_info": {
   "codemirror_mode": {
    "name": "ipython",
    "version": 3
   },
   "file_extension": ".py",
   "mimetype": "text/x-python",
   "name": "python",
   "nbconvert_exporter": "python",
   "pygments_lexer": "ipython3",
   "version": "3.12.4"
  }
 },
 "nbformat": 4,
 "nbformat_minor": 2
}
